{
 "cells": [
  {
   "cell_type": "code",
   "execution_count": 1,
   "metadata": {},
   "outputs": [],
   "source": [
    "import numpy as np\n",
    "\n",
    "import tensorflow_datasets as tfds\n",
    "import tensorflow as tf\n",
    "\n",
    "tfds.disable_progress_bar()"
   ]
  },
  {
   "cell_type": "code",
   "execution_count": 2,
   "metadata": {},
   "outputs": [],
   "source": [
    "import matplotlib.pyplot as plt\n",
    "\n",
    "def plot_graphs(history, metric):\n",
    "    plt.plot(history.history[metric])\n",
    "    plt.plot(history.history['val_'+metric], '')\n",
    "    plt.xlabel(\"Epochs\")\n",
    "    plt.ylabel(metric)\n",
    "    plt.legend([metric, 'val_'+metric])\n"
   ]
  },
  {
   "cell_type": "code",
   "execution_count": 3,
   "metadata": {},
   "outputs": [
    {
     "data": {
      "text/plain": [
       "(TensorSpec(shape=(), dtype=tf.string, name=None),\n",
       " TensorSpec(shape=(), dtype=tf.int64, name=None))"
      ]
     },
     "execution_count": 3,
     "metadata": {},
     "output_type": "execute_result"
    }
   ],
   "source": [
    "dataset, info = tfds.load('imdb_reviews', with_info=True,\n",
    "                          as_supervised=True)\n",
    "train_dataset, test_dataset = dataset['train'], dataset['test']\n",
    "\n",
    "train_dataset.element_spec"
   ]
  },
  {
   "cell_type": "code",
   "execution_count": 4,
   "metadata": {},
   "outputs": [
    {
     "name": "stdout",
     "output_type": "stream",
     "text": [
      "text:  b\"This was an absolutely terrible movie. Don't be lured in by Christopher Walken or Michael Ironside. Both are great actors, but this must simply be their worst role in history. Even their great acting could not redeem this movie's ridiculous storyline. This movie is an early nineties US propaganda piece. The most pathetic scenes were those when the Columbian rebels were making their cases for revolutions. Maria Conchita Alonso appeared phony, and her pseudo-love affair with Walken was nothing but a pathetic emotional plug in a movie that was devoid of any real meaning. I am disappointed that there are movies like this, ruining actor's like Christopher Walken's good name. I could barely sit through it.\"\n",
      "label:  0\n"
     ]
    }
   ],
   "source": [
    "for example, label in train_dataset.take(1):\n",
    "    print('text: ', example.numpy())\n",
    "    print('label: ', label.numpy())\n"
   ]
  },
  {
   "cell_type": "code",
   "execution_count": 5,
   "metadata": {},
   "outputs": [],
   "source": [
    "BUFFER_SIZE = 10000\n",
    "BATCH_SIZE = 64\n"
   ]
  },
  {
   "cell_type": "code",
   "execution_count": 6,
   "metadata": {},
   "outputs": [
    {
     "name": "stdout",
     "output_type": "stream",
     "text": [
      "<PrefetchDataset shapes: ((None,), (None,)), types: (tf.string, tf.int64)>\n",
      "<PrefetchDataset shapes: ((None,), (None,)), types: (tf.string, tf.int64)>\n"
     ]
    }
   ],
   "source": [
    "train_dataset = train_dataset.shuffle(BUFFER_SIZE).batch(BATCH_SIZE).prefetch(tf.data.AUTOTUNE)\n",
    "test_dataset = test_dataset.batch(BATCH_SIZE).prefetch(tf.data.AUTOTUNE)\n",
    "print(train_dataset)\n",
    "print(test_dataset)"
   ]
  },
  {
   "cell_type": "code",
   "execution_count": 7,
   "metadata": {},
   "outputs": [
    {
     "name": "stdout",
     "output_type": "stream",
     "text": [
      "texts:  [b'Loved it! What\\'s not to like?--you got your suburbia, you got your zombies, you got your family issues, you got your social dilemmas, you got yourself one Fine Retro-1950\\'s-style Flesh Eating Under Class Held At Bay By An Uneasy Worried About Whether They\\'re The Next Meal Upper Crust. You couldn\\'t ask for more.<br /><br />Cast is superb. Carrie Ann Moss is absolute perfection as a debutante social climbing housewife. She\\'s both wanton, and criminally conspiratorial. Every fellow\\'s dream. K\\'sun is really great as the son just trying to be as normal as possible in this nightmare existence, and somehow succeeding. He\\'s a genuine screen presence. Very photogenic, and natural. Without naming them all, the rest of the cast is wonderful. Henry Czerny plays a suspicious policeman with honed instincts and little squeamishness as if it\\'s his everyday persona. Billy Connolly is delightful as Fido. A fine actor: I wish that he had played the title role in \"Braveheart,\" with Gibson directing. My sense is that his William Wallace would have been closer to the actual character. His Fido is contained, yet accessible. A nice touch.<br /><br />In short, a great and marvelous satiric poke at morals, values, social pinnings, feelings, growth, coping in uncertain times, and compensatory adjustments to impossible conditions. A true reality show.'\n",
      " b'To be honest, this film is another in a series of huge disappointments...most of these so-called \"masters of horror\" films are only horrifying in terms of their sub-par effects and laughable story lines...aside from Ron Perlman, everyone else in this film cannot act to save their life...the gunshots sounded like someone was playing Bop-it under the boom mike or something, and looked completely unrealistic...overall, this film is about as scary as Home Alone...the only good masters are Cigarette Burns, Jennifer, and maybe Pelts...I don\\'t know how these directors can sleep at night knowing that they have ruined the very genre that some of them used to actually understand...'\n",
      " b'This film is so bad - dialogues, story, actors and actresses - everything! - that it\\'s hard to imagine that we\\'ll see a worse movie this year or in the following years. \"Love\\'s Brother\" (set in Australia among Italian immigrants) has nothing but shallow clich\\xc3\\xa9s about Italian culture to offer, and it is quite telling that even the Italians from and in Italy speak ENGLISH in the film. The message of the film - ugly people have to marry ugly people, beautiful people have to marry beautiful people - is truly discomforting. Giovanni Ribisi is quite good in films like \\'Suburbia\\' or \\'Lost in Translation\\', but here his pseudo-Italian accent is hard to bear. See this film at your own risk. Trash as trash can!']\n",
      "\n",
      "labels:  [1 0 0]\n"
     ]
    }
   ],
   "source": [
    "for example, label in train_dataset.take(1):\n",
    "    print('texts: ', example.numpy()[:3])\n",
    "    print()\n",
    "    print('labels: ', label.numpy()[:3])\n"
   ]
  },
  {
   "cell_type": "code",
   "execution_count": 8,
   "metadata": {},
   "outputs": [],
   "source": [
    "VOCAB_SIZE=1000\n",
    "encoder = tf.keras.layers.experimental.preprocessing.TextVectorization(\n",
    "    max_tokens=VOCAB_SIZE)\n",
    "encoder.adapt(train_dataset.map(lambda text, label: text))\n"
   ]
  },
  {
   "cell_type": "code",
   "execution_count": 9,
   "metadata": {},
   "outputs": [
    {
     "data": {
      "text/plain": [
       "array(['', '[UNK]', 'the', 'and', 'a', 'of', 'to', 'is', 'in', 'it', 'i',\n",
       "       'this', 'that', 'br', 'was', 'as', 'for', 'with', 'movie', 'but'],\n",
       "      dtype='<U14')"
      ]
     },
     "execution_count": 9,
     "metadata": {},
     "output_type": "execute_result"
    }
   ],
   "source": [
    "vocab = np.array(encoder.get_vocabulary())\n",
    "vocab[:20]\n"
   ]
  },
  {
   "cell_type": "code",
   "execution_count": 10,
   "metadata": {},
   "outputs": [
    {
     "data": {
      "text/plain": [
       "array([[434,   9, 697, ...,   0,   0,   0],\n",
       "       [  6,  28,   1, ...,   0,   0,   0],\n",
       "       [ 11,  20,   7, ...,   0,   0,   0]])"
      ]
     },
     "execution_count": 10,
     "metadata": {},
     "output_type": "execute_result"
    }
   ],
   "source": [
    "encoded_example = encoder(example)[:3].numpy()\n",
    "encoded_example\n"
   ]
  },
  {
   "cell_type": "code",
   "execution_count": 11,
   "metadata": {},
   "outputs": [
    {
     "name": "stdout",
     "output_type": "stream",
     "text": [
      "Original:  b'Loved it! What\\'s not to like?--you got your suburbia, you got your zombies, you got your family issues, you got your social dilemmas, you got yourself one Fine Retro-1950\\'s-style Flesh Eating Under Class Held At Bay By An Uneasy Worried About Whether They\\'re The Next Meal Upper Crust. You couldn\\'t ask for more.<br /><br />Cast is superb. Carrie Ann Moss is absolute perfection as a debutante social climbing housewife. She\\'s both wanton, and criminally conspiratorial. Every fellow\\'s dream. K\\'sun is really great as the son just trying to be as normal as possible in this nightmare existence, and somehow succeeding. He\\'s a genuine screen presence. Very photogenic, and natural. Without naming them all, the rest of the cast is wonderful. Henry Czerny plays a suspicious policeman with honed instincts and little squeamishness as if it\\'s his everyday persona. Billy Connolly is delightful as Fido. A fine actor: I wish that he had played the title role in \"Braveheart,\" with Gibson directing. My sense is that his William Wallace would have been closer to the actual character. His Fido is contained, yet accessible. A nice touch.<br /><br />In short, a great and marvelous satiric poke at morals, values, social pinnings, feelings, growth, coping in uncertain times, and compensatory adjustments to impossible conditions. A true reality show.'\n",
      "Round-trip:  loved it whats not to [UNK] got your [UNK] you got your [UNK] you got your family [UNK] you got your [UNK] [UNK] you got yourself one fine [UNK] [UNK] [UNK] under class [UNK] at [UNK] by an [UNK] [UNK] about whether theyre the next [UNK] [UNK] [UNK] you couldnt ask for [UNK] br cast is superb [UNK] [UNK] [UNK] is [UNK] [UNK] as a [UNK] [UNK] [UNK] [UNK] shes both [UNK] and [UNK] [UNK] every [UNK] dream [UNK] is really great as the son just trying to be as [UNK] as possible in this [UNK] [UNK] and somehow [UNK] hes a [UNK] screen [UNK] very [UNK] and [UNK] without [UNK] them all the rest of the cast is wonderful [UNK] [UNK] plays a [UNK] [UNK] with [UNK] [UNK] and little [UNK] as if its his [UNK] [UNK] [UNK] [UNK] is [UNK] as [UNK] a fine actor i wish that he had played the title role in [UNK] with [UNK] directing my sense is that his [UNK] [UNK] would have been [UNK] to the actual character his [UNK] is [UNK] yet [UNK] a nice [UNK] br in short a great and [UNK] [UNK] [UNK] at [UNK] [UNK] [UNK] [UNK] [UNK] [UNK] [UNK] in [UNK] times and [UNK] [UNK] to [UNK] [UNK] a true reality show                                                                                                                                                                                                                                                                                                                                                                                                                                                                                                                                                                                                                                                                                                                                                                                                     \n",
      "\n",
      "Original:  b'To be honest, this film is another in a series of huge disappointments...most of these so-called \"masters of horror\" films are only horrifying in terms of their sub-par effects and laughable story lines...aside from Ron Perlman, everyone else in this film cannot act to save their life...the gunshots sounded like someone was playing Bop-it under the boom mike or something, and looked completely unrealistic...overall, this film is about as scary as Home Alone...the only good masters are Cigarette Burns, Jennifer, and maybe Pelts...I don\\'t know how these directors can sleep at night knowing that they have ruined the very genre that some of them used to actually understand...'\n",
      "Round-trip:  to be [UNK] this film is another in a series of huge [UNK] of these [UNK] [UNK] of horror films are only [UNK] in [UNK] of their [UNK] effects and [UNK] story [UNK] from [UNK] [UNK] everyone else in this film cannot act to save their [UNK] [UNK] [UNK] like someone was playing [UNK] under the [UNK] [UNK] or something and looked completely [UNK] this film is about as scary as home [UNK] only good [UNK] are [UNK] [UNK] [UNK] and maybe [UNK] dont know how these directors can [UNK] at night [UNK] that they have [UNK] the very genre that some of them used to actually understand                                                                                                                                                                                                                                                                                                                                                                                                                                                                                                                                                                                                                                                                                                                                                                                                                                                                                                                \n",
      "\n",
      "Original:  b'This film is so bad - dialogues, story, actors and actresses - everything! - that it\\'s hard to imagine that we\\'ll see a worse movie this year or in the following years. \"Love\\'s Brother\" (set in Australia among Italian immigrants) has nothing but shallow clich\\xc3\\xa9s about Italian culture to offer, and it is quite telling that even the Italians from and in Italy speak ENGLISH in the film. The message of the film - ugly people have to marry ugly people, beautiful people have to marry beautiful people - is truly discomforting. Giovanni Ribisi is quite good in films like \\'Suburbia\\' or \\'Lost in Translation\\', but here his pseudo-Italian accent is hard to bear. See this film at your own risk. Trash as trash can!'\n",
      "Round-trip:  this film is so bad [UNK] story actors and [UNK] everything that its hard to imagine that well see a worse movie this year or in the [UNK] years [UNK] brother set in [UNK] among [UNK] [UNK] has nothing but [UNK] [UNK] about [UNK] [UNK] to [UNK] and it is quite [UNK] that even the [UNK] from and in [UNK] [UNK] english in the film the message of the film [UNK] people have to [UNK] [UNK] people beautiful people have to [UNK] beautiful people is truly [UNK] [UNK] [UNK] is quite good in films like [UNK] or lost in [UNK] but here his [UNK] [UNK] is hard to [UNK] see this film at your own [UNK] [UNK] as [UNK] can                                                                                                                                                                                                                                                                                                                                                                                                                                                                                                                                                                                                                                                                                                                                                                                                                                                                                                    \n",
      "\n"
     ]
    }
   ],
   "source": [
    "for n in range(3):\n",
    "    print(\"Original: \", example[n].numpy())\n",
    "    print(\"Round-trip: \", \" \".join(vocab[encoded_example[n]]))\n",
    "    print()\n"
   ]
  },
  {
   "cell_type": "code",
   "execution_count": 12,
   "metadata": {},
   "outputs": [],
   "source": [
    "model = tf.keras.Sequential([\n",
    "    encoder,\n",
    "    tf.keras.layers.Embedding(\n",
    "        input_dim=len(encoder.get_vocabulary()),\n",
    "        output_dim=64,\n",
    "        # Use masking to handle the variable sequence lengths\n",
    "        mask_zero=True),\n",
    "    tf.keras.layers.Bidirectional(tf.keras.layers.LSTM(64)),\n",
    "    tf.keras.layers.Dense(64, activation='relu'),\n",
    "    tf.keras.layers.Dense(1)\n",
    "])\n"
   ]
  },
  {
   "cell_type": "code",
   "execution_count": 13,
   "metadata": {},
   "outputs": [
    {
     "name": "stdout",
     "output_type": "stream",
     "text": [
      "[False, True, True, True, True]\n"
     ]
    }
   ],
   "source": [
    "print([layer.supports_masking for layer in model.layers])\n"
   ]
  },
  {
   "cell_type": "code",
   "execution_count": 14,
   "metadata": {},
   "outputs": [
    {
     "name": "stdout",
     "output_type": "stream",
     "text": [
      "[0.0102379]\n"
     ]
    }
   ],
   "source": [
    "# predict on a sample text without padding.\n",
    "\n",
    "sample_text = ('The movie was cool. The animation and the graphics '\n",
    "               'were out of this world. I would recommend this movie.')\n",
    "predictions = model.predict(np.array([sample_text]))\n",
    "print(predictions[0])\n"
   ]
  },
  {
   "cell_type": "code",
   "execution_count": 15,
   "metadata": {},
   "outputs": [
    {
     "name": "stdout",
     "output_type": "stream",
     "text": [
      "[0.0102379]\n"
     ]
    }
   ],
   "source": [
    "# predict on a sample text with padding\n",
    "\n",
    "padding = \"the \" * 2000\n",
    "predictions = model.predict(np.array([sample_text, padding]))\n",
    "print(predictions[0])\n"
   ]
  },
  {
   "cell_type": "code",
   "execution_count": 16,
   "metadata": {},
   "outputs": [],
   "source": [
    "model.compile(loss=tf.keras.losses.BinaryCrossentropy(from_logits=True),\n",
    "              optimizer=tf.keras.optimizers.Adam(1e-4),\n",
    "              metrics=['accuracy'])"
   ]
  },
  {
   "cell_type": "code",
   "execution_count": 17,
   "metadata": {},
   "outputs": [
    {
     "name": "stdout",
     "output_type": "stream",
     "text": [
      "Epoch 1/10\n",
      "391/391 [==============================] - 170s 427ms/step - loss: 0.6805 - accuracy: 0.5244 - val_loss: 0.5009 - val_accuracy: 0.7781\n",
      "Epoch 2/10\n",
      "391/391 [==============================] - 163s 417ms/step - loss: 0.4423 - accuracy: 0.7985 - val_loss: 0.3862 - val_accuracy: 0.8422\n",
      "Epoch 3/10\n",
      "391/391 [==============================] - 164s 419ms/step - loss: 0.3513 - accuracy: 0.8452 - val_loss: 0.3362 - val_accuracy: 0.8578\n",
      "Epoch 4/10\n",
      "391/391 [==============================] - 162s 414ms/step - loss: 0.3219 - accuracy: 0.8575 - val_loss: 0.3348 - val_accuracy: 0.8599\n",
      "Epoch 5/10\n",
      "391/391 [==============================] - 164s 418ms/step - loss: 0.3171 - accuracy: 0.8611 - val_loss: 0.3275 - val_accuracy: 0.8552\n",
      "Epoch 6/10\n",
      "391/391 [==============================] - 163s 418ms/step - loss: 0.3112 - accuracy: 0.8656 - val_loss: 0.3234 - val_accuracy: 0.8557\n",
      "Epoch 7/10\n",
      "391/391 [==============================] - 165s 421ms/step - loss: 0.3063 - accuracy: 0.8669 - val_loss: 0.3309 - val_accuracy: 0.8542\n",
      "Epoch 8/10\n",
      "391/391 [==============================] - 163s 416ms/step - loss: 0.3009 - accuracy: 0.8701 - val_loss: 0.3214 - val_accuracy: 0.8589\n",
      "Epoch 9/10\n",
      "391/391 [==============================] - 162s 415ms/step - loss: 0.2956 - accuracy: 0.8717 - val_loss: 0.3249 - val_accuracy: 0.8635\n",
      "Epoch 10/10\n",
      "391/391 [==============================] - 164s 418ms/step - loss: 0.2952 - accuracy: 0.8755 - val_loss: 0.3219 - val_accuracy: 0.8630\n"
     ]
    }
   ],
   "source": [
    "history = model.fit(train_dataset, epochs=10,\n",
    "                    validation_data=test_dataset, \n",
    "                    validation_steps=30)\n"
   ]
  },
  {
   "cell_type": "code",
   "execution_count": 18,
   "metadata": {},
   "outputs": [
    {
     "name": "stdout",
     "output_type": "stream",
     "text": [
      "391/391 [==============================] - 47s 120ms/step - loss: 0.3180 - accuracy: 0.8616\n",
      "Test Loss: 0.3180348575115204\n",
      "Test Accuracy: 0.8615599870681763\n"
     ]
    }
   ],
   "source": [
    "test_loss, test_acc = model.evaluate(test_dataset)\n",
    "\n",
    "print('Test Loss: {}'.format(test_loss))\n",
    "print('Test Accuracy: {}'.format(test_acc))\n"
   ]
  },
  {
   "cell_type": "code",
   "execution_count": 19,
   "metadata": {},
   "outputs": [
    {
     "data": {
      "text/plain": [
       "(0.0, 0.654562146961689)"
      ]
     },
     "execution_count": 19,
     "metadata": {},
     "output_type": "execute_result"
    },
    {
     "data": {
      "image/png": "[encoded data removed]",
      "text/plain": [
       "<Figure size 1152x576 with 2 Axes>"
      ]
     },
     "metadata": {
      "needs_background": "light"
     },
     "output_type": "display_data"
    }
   ],
   "source": [
    "plt.figure(figsize=(16,8))\n",
    "plt.subplot(1,2,1)\n",
    "plot_graphs(history, 'accuracy')\n",
    "plt.ylim(None,1)\n",
    "plt.subplot(1,2,2)\n",
    "plot_graphs(history, 'loss')\n",
    "plt.ylim(0,None)\n"
   ]
  },
  {
   "cell_type": "code",
   "execution_count": 20,
   "metadata": {},
   "outputs": [],
   "source": [
    "sample_text = ('The movie was cool. The animation and the graphics '\n",
    "               'were out of this world. I would recommend this movie.')\n",
    "predictions = model.predict(np.array([sample_text]))\n"
   ]
  },
  {
   "cell_type": "code",
   "execution_count": 21,
   "metadata": {},
   "outputs": [],
   "source": [
    "model = tf.keras.Sequential([\n",
    "    encoder,\n",
    "    tf.keras.layers.Embedding(len(encoder.get_vocabulary()), 64, mask_zero=True),\n",
    "    tf.keras.layers.Bidirectional(tf.keras.layers.LSTM(64,  return_sequences=True)),\n",
    "    tf.keras.layers.Bidirectional(tf.keras.layers.LSTM(32)),\n",
    "    tf.keras.layers.Dense(64, activation='relu'),\n",
    "    tf.keras.layers.Dropout(0.5),\n",
    "    tf.keras.layers.Dense(1)\n",
    "])\n"
   ]
  },
  {
   "cell_type": "code",
   "execution_count": 22,
   "metadata": {},
   "outputs": [],
   "source": [
    "model.compile(loss=tf.keras.losses.BinaryCrossentropy(from_logits=True),\n",
    "              optimizer=tf.keras.optimizers.Adam(1e-4),\n",
    "              metrics=['accuracy'])"
   ]
  },
  {
   "cell_type": "code",
   "execution_count": null,
   "metadata": {},
   "outputs": [
    {
     "name": "stdout",
     "output_type": "stream",
     "text": [
      "Epoch 1/10\n",
      "391/391 [==============================] - 325s 812ms/step - loss: 0.6714 - accuracy: 0.5308 - val_loss: 0.4022 - val_accuracy: 0.8302\n",
      "Epoch 2/10\n",
      "391/391 [==============================] - 313s 801ms/step - loss: 0.3816 - accuracy: 0.8331 - val_loss: 0.3492 - val_accuracy: 0.8354\n",
      "Epoch 3/10\n",
      "391/391 [==============================] - 313s 801ms/step - loss: 0.3329 - accuracy: 0.8577 - val_loss: 0.3535 - val_accuracy: 0.8240\n",
      "Epoch 4/10\n",
      "391/391 [==============================] - 313s 800ms/step - loss: 0.3234 - accuracy: 0.8623 - val_loss: 0.3406 - val_accuracy: 0.8323\n",
      "Epoch 5/10\n",
      "391/391 [==============================] - 318s 814ms/step - loss: 0.3116 - accuracy: 0.8648 - val_loss: 0.3730 - val_accuracy: 0.8042\n",
      "Epoch 6/10\n",
      "391/391 [==============================] - 312s 798ms/step - loss: 0.3124 - accuracy: 0.8650 - val_loss: 0.3288 - val_accuracy: 0.8458\n",
      "Epoch 7/10\n",
      "391/391 [==============================] - 317s 811ms/step - loss: 0.3028 - accuracy: 0.8703 - val_loss: 0.3184 - val_accuracy: 0.8562\n",
      "Epoch 8/10\n",
      "391/391 [==============================] - 314s 803ms/step - loss: 0.3020 - accuracy: 0.8704 - val_loss: 0.3174 - val_accuracy: 0.8542\n",
      "Epoch 9/10\n",
      "391/391 [==============================] - 313s 801ms/step - loss: 0.3003 - accuracy: 0.8728 - val_loss: 0.3292 - val_accuracy: 0.8589\n",
      "Epoch 10/10\n",
      "276/391 [====================>.........] - ETA: 1:42 - loss: 0.3024 - accuracy: 0.8703"
     ]
    }
   ],
   "source": [
    "history = model.fit(train_dataset, epochs=10,\n",
    "                    validation_data=test_dataset,\n",
    "                    validation_steps=30)\n"
   ]
  },
  {
   "cell_type": "code",
   "execution_count": null,
   "metadata": {},
   "outputs": [],
   "source": [
    "# predict on a sample text without padding.\n",
    "\n",
    "sample_text = ('The movie was not good. The animation and the graphics '\n",
    "                    'were terrible. I would not recommend this movie.')\n",
    "predictions = model.predict(np.array([sample_text]))\n",
    "print(predictions)\n"
   ]
  },
  {
   "cell_type": "code",
   "execution_count": null,
   "metadata": {},
   "outputs": [],
   "source": [
    "plt.figure(figsize=(16,6))\n",
    "plt.subplot(1,2,1)\n",
    "plot_graphs(history, 'accuracy')\n",
    "plt.subplot(1,2,2)\n",
    "plot_graphs(history, 'loss')\n"
   ]
  },
  {
   "cell_type": "code",
   "execution_count": null,
   "metadata": {},
   "outputs": [],
   "source": []
  }
 ],
 "metadata": {
  "kernelspec": {
   "display_name": "Python 3",
   "language": "python",
   "name": "python3"
  },
  "language_info": {
   "codemirror_mode": {
    "name": "ipython",
    "version": 3
   },
   "file_extension": ".py",
   "mimetype": "text/x-python",
   "name": "python",
   "nbconvert_exporter": "python",
   "pygments_lexer": "ipython3",
   "version": "3.6.13"
  }
 },
 "nbformat": 4,
 "nbformat_minor": 4
}
