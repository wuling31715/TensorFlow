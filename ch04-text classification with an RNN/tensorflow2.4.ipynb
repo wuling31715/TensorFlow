{
 "cells": [
  {
   "cell_type": "code",
   "execution_count": 1,
   "metadata": {},
   "outputs": [],
   "source": [
    "import numpy as np\n",
    "\n",
    "import tensorflow_datasets as tfds\n",
    "import tensorflow as tf\n",
    "\n",
    "tfds.disable_progress_bar()"
   ]
  },
  {
   "cell_type": "code",
   "execution_count": 2,
   "metadata": {},
   "outputs": [],
   "source": [
    "import matplotlib.pyplot as plt\n",
    "\n",
    "def plot_graphs(history, metric):\n",
    "    plt.plot(history.history[metric])\n",
    "    plt.plot(history.history['val_'+metric], '')\n",
    "    plt.xlabel(\"Epochs\")\n",
    "    plt.ylabel(metric)\n",
    "    plt.legend([metric, 'val_'+metric])\n"
   ]
  },
  {
   "cell_type": "code",
   "execution_count": 3,
   "metadata": {},
   "outputs": [
    {
     "data": {
      "text/plain": [
       "(TensorSpec(shape=(), dtype=tf.string, name=None),\n",
       " TensorSpec(shape=(), dtype=tf.int64, name=None))"
      ]
     },
     "execution_count": 3,
     "metadata": {},
     "output_type": "execute_result"
    }
   ],
   "source": [
    "dataset, info = tfds.load('imdb_reviews', with_info=True,\n",
    "                          as_supervised=True)\n",
    "train_dataset, test_dataset = dataset['train'], dataset['test']\n",
    "\n",
    "train_dataset.element_spec"
   ]
  },
  {
   "cell_type": "code",
   "execution_count": 4,
   "metadata": {},
   "outputs": [
    {
     "name": "stdout",
     "output_type": "stream",
     "text": [
      "text:  b\"This was an absolutely terrible movie. Don't be lured in by Christopher Walken or Michael Ironside. Both are great actors, but this must simply be their worst role in history. Even their great acting could not redeem this movie's ridiculous storyline. This movie is an early nineties US propaganda piece. The most pathetic scenes were those when the Columbian rebels were making their cases for revolutions. Maria Conchita Alonso appeared phony, and her pseudo-love affair with Walken was nothing but a pathetic emotional plug in a movie that was devoid of any real meaning. I am disappointed that there are movies like this, ruining actor's like Christopher Walken's good name. I could barely sit through it.\"\n",
      "label:  0\n"
     ]
    }
   ],
   "source": [
    "for example, label in train_dataset.take(1):\n",
    "    print('text: ', example.numpy())\n",
    "    print('label: ', label.numpy())\n"
   ]
  },
  {
   "cell_type": "code",
   "execution_count": 5,
   "metadata": {},
   "outputs": [],
   "source": [
    "BUFFER_SIZE = 10000\n",
    "BATCH_SIZE = 64\n"
   ]
  },
  {
   "cell_type": "code",
   "execution_count": 6,
   "metadata": {},
   "outputs": [
    {
     "name": "stdout",
     "output_type": "stream",
     "text": [
      "<PrefetchDataset shapes: ((None,), (None,)), types: (tf.string, tf.int64)>\n",
      "<PrefetchDataset shapes: ((None,), (None,)), types: (tf.string, tf.int64)>\n"
     ]
    }
   ],
   "source": [
    "train_dataset = train_dataset.shuffle(BUFFER_SIZE).batch(BATCH_SIZE).prefetch(tf.data.AUTOTUNE)\n",
    "test_dataset = test_dataset.batch(BATCH_SIZE).prefetch(tf.data.AUTOTUNE)\n",
    "print(train_dataset)\n",
    "print(test_dataset)"
   ]
  },
  {
   "cell_type": "code",
   "execution_count": 7,
   "metadata": {},
   "outputs": [
    {
     "name": "stdout",
     "output_type": "stream",
     "text": [
      "texts:  [b'All films made before 1912 really need to be viewed with a sense of time and place.<br /><br />In 1894, the Lumiere-family men [father: Antoine (1840-1911), sons: Auguste and Louis] owned and managed a factory that manufactured photographic plates and paper. Not a small enterprise; the factory had more than 200 employees who received pension and social security benefits - innovative for that time. It was located at Montplaisir in the suburbs of Lyon, France. What caused Louis Lumiere to become interested in building a Cinematagraph, in 1894, remains open for speculation. My suggestion is that the appearance of the Edison organization\\'s Kinetoscope (peep-show machine), in Paris during the fall of 1894, provided the catalyst.<br /><br />W.K.L. Dickson, of Edison\\'s staff, invented a motion-picture camera about the size of an upright piano that was patented in February 1893. It was electrically operated (using power from from heavy storage batteries. This massive machine pumped celluloid film strip (newly developed by the Eastman company) past a lens at about 40 frames-per-second (fps). It was ensconced, as an almost immovable object, in the \"Black Maria\" (essentially the first movie studio.) The Kinetescope machines showed staged presentations (less than one-minute long)that were filmed in this studio.<br /><br />During 1894, Louis Lumiere applied himself to the task of inventing a moving-picture camera. He had determined that, even at 16 fps on celluloid film, the persistence-of-vision of the human eye/brain would allow for normal motion to be perceived. His camera, dubbed the Cinematograph, was about the size of a large shoe box and was provided with a detachable film magazine that provided storage for enough film to make a shoot last about one minute when it was had cranked past the lens at 16 fps.<br /><br />The size and light weight, of the camera (it could be converted into a printer or a projector by the addition of a light source) made it portable enough that it could be taken to any location to record an event (provided there was enough sunlight available.) In the spring of 1895, Louis filmed: trick-riding by some cavalry men; a house on fire with firemen arriving and dousing the engulfed building with water; and a number of other scenes in and around Lyon. Using a Molteni bulb, he turned the camera into a projector and presented his films to scientists assembled in the reception room of the Revue Generales des Science. The images were projected on a screen five-meters distant from the lens. The screen was stretched in a doorway between two rooms. At a meeting of professional photographers, that same year, Louis photographed the arriving delegates and the same evening showed them motion pictures of their arrival.<br /><br />With accolades from both the scientific and photographic communities, Louis decided to have a public exhibition of his invention by the end of the year. Since each of his films would be about one-minute long, he would need at least a dozen films to make a good presentation. For one of these films he set up his camera at the entrance to his factory, photographing the egress of employees at quitting-time.<br /><br />The public venue chosen by Antoine - who offered himself as the \"fairground barker\" for the Cinematograph - was the Salon Indien of the Grand Cafe on the boulevard des Capucines in Paris. It was a wintry Saturday night on 28 December, 1895. As the first audience sat, they were presented with a projected view of the exterior of the Lumiere factory (with closed gates.) Some were chagrined that they were just going to see a routine slide show of Lumiere photographs. But then the crank on the camera/projector was turned and movement began. Louis had an innate sense for motion picture taking. This film has a beginning, a middle and an end. In the beginning, the doors are opened and people begin to leave their workplace; during the middle, the people stream out - with many trying to ignore the camera, and the cameraman, as they seem to be happy to leave a day of labor behind them. At the end, the gates to the factory are being closed.<br /><br />And this was the first film projected for the entertainment of the general public.'\n",
      " b\"Believe it or not, at 12 minutes, this film (for 1912) is a full-length film. Very, very few films were longer than that back then, but that is definitely NOT what sets this odd little film apart from the rest! No, what's different is that all the actors (with the exception of one frog) are bugs...yes, bugs! This simple little domestic comedy could have looked much like productions starring the likes of Chaplin, Laurel and Hardy or Max Linder but instead this Russian production uses bugs (or, I think, models that looked just like bugs). Chaplin and Laurel and Hardy were yet to be discovered and I assume Linder was busy, so perhaps that's why they used bugs! Using stop-motion, the bugs moved and danced and fought amazingly well--and a heck of a lot more realistically than King Kong 21 years later! <br /><br />The film starts with Mr. Beetle sneaking off for a good time. He goes to a bawdy club while his wife supposedly waits at home. But, unfortunately for Mr. Beetle, he is caught on camera by a local film buff. Plus, he doesn't know it but Mrs. Beetle is also carrying on with a bohemian grasshopper painter. Of course, there's a lot more to this domestic comedy than this, but the plot is age-old and very entertaining for adults and kids alike.<br /><br />Weird but also very amazing and watchable.\"\n",
      " b\"I absolutely loved this show. I watched it from the time it first aired in the late 90's to the very last episode. In my honest opinion it was a wonderful family drama that is so rare these days. Definitely a show you could watch with a friend or your children. Yes things have changed a bit with Jo since we last saw her in the books, but it's still compelling with great stories and good lessons. The actress that portrays Jo Bhaer (Michelle Burke) does a wonderful job as does as the actor who plays Nick Riley (Spencer Rochfort) Throughout the series we get to see the developing romance between Jo and Nick as well as the daily stories and lessons the kids and students learn. I recommend this show to anyone.\"]\n",
      "\n",
      "labels:  [1 1 1]\n"
     ]
    }
   ],
   "source": [
    "for example, label in train_dataset.take(1):\n",
    "    print('texts: ', example.numpy()[:3])\n",
    "    print()\n",
    "    print('labels: ', label.numpy()[:3])\n"
   ]
  },
  {
   "cell_type": "code",
   "execution_count": 8,
   "metadata": {},
   "outputs": [],
   "source": [
    "VOCAB_SIZE=1000\n",
    "encoder = tf.keras.layers.experimental.preprocessing.TextVectorization(\n",
    "    max_tokens=VOCAB_SIZE)\n",
    "encoder.adapt(train_dataset.map(lambda text, label: text))\n"
   ]
  },
  {
   "cell_type": "code",
   "execution_count": 9,
   "metadata": {},
   "outputs": [
    {
     "data": {
      "text/plain": [
       "array(['', '[UNK]', 'the', 'and', 'a', 'of', 'to', 'is', 'in', 'it', 'i',\n",
       "       'this', 'that', 'br', 'was', 'as', 'for', 'with', 'movie', 'but'],\n",
       "      dtype='<U14')"
      ]
     },
     "execution_count": 9,
     "metadata": {},
     "output_type": "execute_result"
    }
   ],
   "source": [
    "vocab = np.array(encoder.get_vocabulary())\n",
    "vocab[:20]\n"
   ]
  },
  {
   "cell_type": "code",
   "execution_count": 10,
   "metadata": {},
   "outputs": [
    {
     "data": {
      "text/plain": [
       "array([[ 32,  95,  91, ...,   0,   0,   0],\n",
       "       [256,   9,  42, ...,   0,   0,   0],\n",
       "       [ 10, 412, 434, ...,   0,   0,   0]])"
      ]
     },
     "execution_count": 10,
     "metadata": {},
     "output_type": "execute_result"
    }
   ],
   "source": [
    "encoded_example = encoder(example)[:3].numpy()\n",
    "encoded_example\n"
   ]
  },
  {
   "cell_type": "code",
   "execution_count": 11,
   "metadata": {},
   "outputs": [
    {
     "name": "stdout",
     "output_type": "stream",
     "text": [
      "Original:  b'All films made before 1912 really need to be viewed with a sense of time and place.<br /><br />In 1894, the Lumiere-family men [father: Antoine (1840-1911), sons: Auguste and Louis] owned and managed a factory that manufactured photographic plates and paper. Not a small enterprise; the factory had more than 200 employees who received pension and social security benefits - innovative for that time. It was located at Montplaisir in the suburbs of Lyon, France. What caused Louis Lumiere to become interested in building a Cinematagraph, in 1894, remains open for speculation. My suggestion is that the appearance of the Edison organization\\'s Kinetoscope (peep-show machine), in Paris during the fall of 1894, provided the catalyst.<br /><br />W.K.L. Dickson, of Edison\\'s staff, invented a motion-picture camera about the size of an upright piano that was patented in February 1893. It was electrically operated (using power from from heavy storage batteries. This massive machine pumped celluloid film strip (newly developed by the Eastman company) past a lens at about 40 frames-per-second (fps). It was ensconced, as an almost immovable object, in the \"Black Maria\" (essentially the first movie studio.) The Kinetescope machines showed staged presentations (less than one-minute long)that were filmed in this studio.<br /><br />During 1894, Louis Lumiere applied himself to the task of inventing a moving-picture camera. He had determined that, even at 16 fps on celluloid film, the persistence-of-vision of the human eye/brain would allow for normal motion to be perceived. His camera, dubbed the Cinematograph, was about the size of a large shoe box and was provided with a detachable film magazine that provided storage for enough film to make a shoot last about one minute when it was had cranked past the lens at 16 fps.<br /><br />The size and light weight, of the camera (it could be converted into a printer or a projector by the addition of a light source) made it portable enough that it could be taken to any location to record an event (provided there was enough sunlight available.) In the spring of 1895, Louis filmed: trick-riding by some cavalry men; a house on fire with firemen arriving and dousing the engulfed building with water; and a number of other scenes in and around Lyon. Using a Molteni bulb, he turned the camera into a projector and presented his films to scientists assembled in the reception room of the Revue Generales des Science. The images were projected on a screen five-meters distant from the lens. The screen was stretched in a doorway between two rooms. At a meeting of professional photographers, that same year, Louis photographed the arriving delegates and the same evening showed them motion pictures of their arrival.<br /><br />With accolades from both the scientific and photographic communities, Louis decided to have a public exhibition of his invention by the end of the year. Since each of his films would be about one-minute long, he would need at least a dozen films to make a good presentation. For one of these films he set up his camera at the entrance to his factory, photographing the egress of employees at quitting-time.<br /><br />The public venue chosen by Antoine - who offered himself as the \"fairground barker\" for the Cinematograph - was the Salon Indien of the Grand Cafe on the boulevard des Capucines in Paris. It was a wintry Saturday night on 28 December, 1895. As the first audience sat, they were presented with a projected view of the exterior of the Lumiere factory (with closed gates.) Some were chagrined that they were just going to see a routine slide show of Lumiere photographs. But then the crank on the camera/projector was turned and movement began. Louis had an innate sense for motion picture taking. This film has a beginning, a middle and an end. In the beginning, the doors are opened and people begin to leave their workplace; during the middle, the people stream out - with many trying to ignore the camera, and the cameraman, as they seem to be happy to leave a day of labor behind them. At the end, the gates to the factory are being closed.<br /><br />And this was the first film projected for the entertainment of the general public.'\n",
      "Round-trip:  all films made before [UNK] really need to be [UNK] with a sense of time and [UNK] br in [UNK] the [UNK] men father [UNK] [UNK] [UNK] [UNK] and [UNK] [UNK] and [UNK] a [UNK] that [UNK] [UNK] [UNK] and [UNK] not a small [UNK] the [UNK] had more than [UNK] [UNK] who [UNK] [UNK] and [UNK] [UNK] [UNK] [UNK] for that time it was [UNK] at [UNK] in the [UNK] of [UNK] [UNK] what [UNK] [UNK] [UNK] to become interested in [UNK] a [UNK] in [UNK] [UNK] open for [UNK] my [UNK] is that the [UNK] of the [UNK] [UNK] [UNK] [UNK] [UNK] in [UNK] during the fall of [UNK] [UNK] the [UNK] br [UNK] [UNK] of [UNK] [UNK] [UNK] a [UNK] camera about the [UNK] of an [UNK] [UNK] that was [UNK] in [UNK] [UNK] it was [UNK] [UNK] using power from from [UNK] [UNK] [UNK] this [UNK] [UNK] [UNK] [UNK] film [UNK] [UNK] [UNK] by the [UNK] [UNK] past a [UNK] at about [UNK] [UNK] [UNK] it was [UNK] as an almost [UNK] [UNK] in the black [UNK] [UNK] the first movie [UNK] the [UNK] [UNK] [UNK] [UNK] [UNK] less than [UNK] [UNK] were filmed in this [UNK] br during [UNK] [UNK] [UNK] [UNK] himself to the [UNK] of [UNK] a [UNK] camera he had [UNK] that even at [UNK] [UNK] on [UNK] film the [UNK] of the human [UNK] would [UNK] for [UNK] [UNK] to be [UNK] his camera [UNK] the [UNK] was about the [UNK] of a [UNK] [UNK] [UNK] and was [UNK] with a [UNK] film [UNK] that [UNK] [UNK] for enough film to make a [UNK] last about one minute when it was had [UNK] past the [UNK] at [UNK] [UNK] br the [UNK] and light [UNK] of the camera it could be [UNK] into a [UNK] or a [UNK] by the [UNK] of a light [UNK] made it [UNK] enough that it could be taken to any [UNK] to [UNK] an [UNK] [UNK] there was enough [UNK] [UNK] in the [UNK] of [UNK] [UNK] filmed [UNK] by some [UNK] men a house on fire with [UNK] [UNK] and [UNK] the [UNK] [UNK] with [UNK] and a number of other scenes in and around [UNK] using a [UNK] [UNK] he turned the camera into a [UNK] and [UNK] his films to [UNK] [UNK] in the [UNK] room of the [UNK] [UNK] [UNK] [UNK] the [UNK] were [UNK] on a screen [UNK] [UNK] from the [UNK] the screen was [UNK] in a [UNK] between two [UNK] at a [UNK] of [UNK] [UNK] that same year [UNK] [UNK] the [UNK] [UNK] and the same [UNK] [UNK] them [UNK] [UNK] of their [UNK] br with [UNK] from both the [UNK] and [UNK] [UNK] [UNK] decided to have a [UNK] [UNK] of his [UNK] by the end of the year since each of his films would be about [UNK] long he would need at least a [UNK] films to make a good [UNK] for one of these films he set up his camera at the [UNK] to his [UNK] [UNK] the [UNK] of [UNK] at [UNK] br the [UNK] [UNK] [UNK] by [UNK] who [UNK] himself as the [UNK] [UNK] for the [UNK] was the [UNK] [UNK] of the [UNK] [UNK] on the [UNK] [UNK] [UNK] in [UNK] it was a [UNK] [UNK] night on [UNK] [UNK] [UNK] as the first audience [UNK] they were [UNK] with a [UNK] view of the [UNK] of the [UNK] [UNK] with [UNK] [UNK] some were [UNK] that they were just going to see a [UNK] [UNK] show of [UNK] [UNK] but then the [UNK] on the [UNK] was turned and [UNK] [UNK] [UNK] had an [UNK] sense for [UNK] picture taking this film has a beginning a middle and an end in the beginning the [UNK] are [UNK] and people begin to leave their [UNK] during the middle the people [UNK] out with many trying to [UNK] the camera and the [UNK] as they seem to be happy to leave a day of [UNK] behind them at the end the [UNK] to the [UNK] are being [UNK] br and this was the first film [UNK] for the entertainment of the general [UNK]                                                                                                                                                                                                                                                              \n",
      "\n",
      "Original:  b\"Believe it or not, at 12 minutes, this film (for 1912) is a full-length film. Very, very few films were longer than that back then, but that is definitely NOT what sets this odd little film apart from the rest! No, what's different is that all the actors (with the exception of one frog) are bugs...yes, bugs! This simple little domestic comedy could have looked much like productions starring the likes of Chaplin, Laurel and Hardy or Max Linder but instead this Russian production uses bugs (or, I think, models that looked just like bugs). Chaplin and Laurel and Hardy were yet to be discovered and I assume Linder was busy, so perhaps that's why they used bugs! Using stop-motion, the bugs moved and danced and fought amazingly well--and a heck of a lot more realistically than King Kong 21 years later! <br /><br />The film starts with Mr. Beetle sneaking off for a good time. He goes to a bawdy club while his wife supposedly waits at home. But, unfortunately for Mr. Beetle, he is caught on camera by a local film buff. Plus, he doesn't know it but Mrs. Beetle is also carrying on with a bohemian grasshopper painter. Of course, there's a lot more to this domestic comedy than this, but the plot is age-old and very entertaining for adults and kids alike.<br /><br />Weird but also very amazing and watchable.\"\n",
      "Round-trip:  believe it or not at [UNK] minutes this film for [UNK] is a [UNK] film very very few films were [UNK] than that back then but that is definitely not what sets this [UNK] little film apart from the rest no whats different is that all the actors with the [UNK] of one [UNK] are [UNK] [UNK] this simple little [UNK] comedy could have looked much like [UNK] [UNK] the [UNK] of [UNK] [UNK] and [UNK] or [UNK] [UNK] but instead this [UNK] production [UNK] [UNK] or i think [UNK] that looked just like [UNK] [UNK] and [UNK] and [UNK] were yet to be [UNK] and i [UNK] [UNK] was [UNK] so perhaps thats why they used [UNK] using [UNK] the [UNK] [UNK] and [UNK] and [UNK] [UNK] [UNK] a [UNK] of a lot more [UNK] than king [UNK] [UNK] years later br br the film starts with mr [UNK] [UNK] off for a good time he goes to a [UNK] [UNK] while his wife [UNK] [UNK] at home but unfortunately for mr [UNK] he is [UNK] on camera by a local film [UNK] plus he doesnt know it but [UNK] [UNK] is also [UNK] on with a [UNK] [UNK] [UNK] of course theres a lot more to this [UNK] comedy than this but the plot is [UNK] and very entertaining for [UNK] and kids [UNK] br weird but also very amazing and [UNK]                                                                                                                                                                                                                                                                                                                                                                                                                                                                                                                                                                                                                                                                                                                                                  \n",
      "\n",
      "Original:  b\"I absolutely loved this show. I watched it from the time it first aired in the late 90's to the very last episode. In my honest opinion it was a wonderful family drama that is so rare these days. Definitely a show you could watch with a friend or your children. Yes things have changed a bit with Jo since we last saw her in the books, but it's still compelling with great stories and good lessons. The actress that portrays Jo Bhaer (Michelle Burke) does a wonderful job as does as the actor who plays Nick Riley (Spencer Rochfort) Throughout the series we get to see the developing romance between Jo and Nick as well as the daily stories and lessons the kids and students learn. I recommend this show to anyone.\"\n",
      "Round-trip:  i absolutely loved this show i watched it from the time it first [UNK] in the late [UNK] to the very last episode in my [UNK] opinion it was a wonderful family drama that is so [UNK] these days definitely a show you could watch with a friend or your children yes things have [UNK] a bit with [UNK] since we last saw her in the [UNK] but its still [UNK] with great stories and good [UNK] the actress that [UNK] [UNK] [UNK] [UNK] [UNK] does a wonderful job as does as the actor who plays [UNK] [UNK] [UNK] [UNK] throughout the series we get to see the [UNK] romance between [UNK] and [UNK] as well as the [UNK] stories and [UNK] the kids and [UNK] learn i recommend this show to anyone                                                                                                                                                                                                                                                                                                                                                                                                                                                                                                                                                                                                                                                                                                                                                                                                                                                       \n",
      "\n"
     ]
    }
   ],
   "source": [
    "for n in range(3):\n",
    "    print(\"Original: \", example[n].numpy())\n",
    "    print(\"Round-trip: \", \" \".join(vocab[encoded_example[n]]))\n",
    "    print()\n"
   ]
  },
  {
   "cell_type": "code",
   "execution_count": 12,
   "metadata": {},
   "outputs": [],
   "source": [
    "model = tf.keras.Sequential([\n",
    "    encoder,\n",
    "    tf.keras.layers.Embedding(\n",
    "        input_dim=len(encoder.get_vocabulary()),\n",
    "        output_dim=64,\n",
    "        # Use masking to handle the variable sequence lengths\n",
    "        mask_zero=True),\n",
    "    tf.keras.layers.Bidirectional(tf.keras.layers.LSTM(64)),\n",
    "    tf.keras.layers.Dense(64, activation='relu'),\n",
    "    tf.keras.layers.Dense(1)\n",
    "])\n"
   ]
  },
  {
   "cell_type": "code",
   "execution_count": 13,
   "metadata": {},
   "outputs": [
    {
     "name": "stdout",
     "output_type": "stream",
     "text": [
      "[False, True, True, True, True]\n"
     ]
    }
   ],
   "source": [
    "print([layer.supports_masking for layer in model.layers])\n"
   ]
  },
  {
   "cell_type": "code",
   "execution_count": 14,
   "metadata": {},
   "outputs": [
    {
     "name": "stdout",
     "output_type": "stream",
     "text": [
      "[-0.00387598]\n"
     ]
    }
   ],
   "source": [
    "# predict on a sample text without padding.\n",
    "\n",
    "sample_text = ('The movie was cool. The animation and the graphics '\n",
    "               'were out of this world. I would recommend this movie.')\n",
    "predictions = model.predict(np.array([sample_text]))\n",
    "print(predictions[0])\n"
   ]
  },
  {
   "cell_type": "code",
   "execution_count": 15,
   "metadata": {},
   "outputs": [
    {
     "name": "stdout",
     "output_type": "stream",
     "text": [
      "[-0.00387598]\n"
     ]
    }
   ],
   "source": [
    "# predict on a sample text with padding\n",
    "\n",
    "padding = \"the \" * 2000\n",
    "predictions = model.predict(np.array([sample_text, padding]))\n",
    "print(predictions[0])\n"
   ]
  },
  {
   "cell_type": "code",
   "execution_count": 16,
   "metadata": {},
   "outputs": [],
   "source": [
    "model.compile(loss=tf.keras.losses.BinaryCrossentropy(from_logits=True),\n",
    "              optimizer=tf.keras.optimizers.Adam(1e-4),\n",
    "              metrics=['accuracy'])"
   ]
  },
  {
   "cell_type": "code",
   "execution_count": 17,
   "metadata": {},
   "outputs": [
    {
     "name": "stdout",
     "output_type": "stream",
     "text": [
      "Epoch 1/10\n",
      "391/391 [==============================] - 259s 653ms/step - loss: 0.6827 - accuracy: 0.5165 - val_loss: 0.5124 - val_accuracy: 0.7458\n",
      "Epoch 2/10\n",
      "391/391 [==============================] - 254s 649ms/step - loss: 0.4437 - accuracy: 0.7909 - val_loss: 0.3721 - val_accuracy: 0.8271\n",
      "Epoch 3/10\n",
      "391/391 [==============================] - 251s 642ms/step - loss: 0.3455 - accuracy: 0.8454 - val_loss: 0.3376 - val_accuracy: 0.8531\n",
      "Epoch 4/10\n",
      "391/391 [==============================] - 252s 645ms/step - loss: 0.3201 - accuracy: 0.8605 - val_loss: 0.3290 - val_accuracy: 0.8552\n",
      "Epoch 5/10\n",
      "391/391 [==============================] - 252s 645ms/step - loss: 0.3094 - accuracy: 0.8683 - val_loss: 0.3342 - val_accuracy: 0.8385\n",
      "Epoch 6/10\n",
      "391/391 [==============================] - 252s 646ms/step - loss: 0.3051 - accuracy: 0.8681 - val_loss: 0.3232 - val_accuracy: 0.8552\n",
      "Epoch 7/10\n",
      "391/391 [==============================] - 251s 643ms/step - loss: 0.3045 - accuracy: 0.8678 - val_loss: 0.3237 - val_accuracy: 0.8552\n",
      "Epoch 8/10\n",
      "391/391 [==============================] - 251s 642ms/step - loss: 0.2997 - accuracy: 0.8690 - val_loss: 0.3405 - val_accuracy: 0.8318\n",
      "Epoch 9/10\n",
      "212/391 [===============>..............] - ETA: 1:51 - loss: 0.3077 - accuracy: 0.8649"
     ]
    },
    {
     "name": "stderr",
     "output_type": "stream",
     "text": [
      "IOPub message rate exceeded.\n",
      "The notebook server will temporarily stop sending output\n",
      "to the client in order to avoid crashing it.\n",
      "To change this limit, set the config variable\n",
      "`--NotebookApp.iopub_msg_rate_limit`.\n",
      "\n",
      "Current values:\n",
      "NotebookApp.iopub_msg_rate_limit=1000.0 (msgs/sec)\n",
      "NotebookApp.rate_limit_window=3.0 (secs)\n",
      "\n"
     ]
    }
   ],
   "source": [
    "history = model.fit(train_dataset, epochs=10,\n",
    "                    validation_data=test_dataset, \n",
    "                    validation_steps=30)\n"
   ]
  },
  {
   "cell_type": "code",
   "execution_count": 18,
   "metadata": {},
   "outputs": [
    {
     "name": "stdout",
     "output_type": "stream",
     "text": [
      "391/391 [==============================] - 70s 179ms/step - loss: 0.3236 - accuracy: 0.8502\n",
      "Test Loss: 0.32362669706344604\n",
      "Test Accuracy: 0.8501600027084351\n"
     ]
    }
   ],
   "source": [
    "test_loss, test_acc = model.evaluate(test_dataset)\n",
    "\n",
    "print('Test Loss: {}'.format(test_loss))\n",
    "print('Test Accuracy: {}'.format(test_acc))\n"
   ]
  },
  {
   "cell_type": "code",
   "execution_count": 19,
   "metadata": {},
   "outputs": [
    {
     "data": {
      "text/plain": [
       "(0.0, 0.6645468294620513)"
      ]
     },
     "execution_count": 19,
     "metadata": {},
     "output_type": "execute_result"
    },
    {
     "data": {
      "image/png": "[encoded data removed]",
      "text/plain": [
       "<Figure size 1152x576 with 2 Axes>"
      ]
     },
     "metadata": {
      "needs_background": "light"
     },
     "output_type": "display_data"
    }
   ],
   "source": [
    "plt.figure(figsize=(16,8))\n",
    "plt.subplot(1,2,1)\n",
    "plot_graphs(history, 'accuracy')\n",
    "plt.ylim(None,1)\n",
    "plt.subplot(1,2,2)\n",
    "plot_graphs(history, 'loss')\n",
    "plt.ylim(0,None)\n"
   ]
  },
  {
   "cell_type": "code",
   "execution_count": 20,
   "metadata": {},
   "outputs": [],
   "source": [
    "sample_text = ('The movie was cool. The animation and the graphics '\n",
    "               'were out of this world. I would recommend this movie.')\n",
    "predictions = model.predict(np.array([sample_text]))\n"
   ]
  },
  {
   "cell_type": "code",
   "execution_count": 21,
   "metadata": {},
   "outputs": [],
   "source": [
    "model = tf.keras.Sequential([\n",
    "    encoder,\n",
    "    tf.keras.layers.Embedding(len(encoder.get_vocabulary()), 64, mask_zero=True),\n",
    "    tf.keras.layers.Bidirectional(tf.keras.layers.LSTM(64,  return_sequences=True)),\n",
    "    tf.keras.layers.Bidirectional(tf.keras.layers.LSTM(32)),\n",
    "    tf.keras.layers.Dense(64, activation='relu'),\n",
    "    tf.keras.layers.Dropout(0.5),\n",
    "    tf.keras.layers.Dense(1)\n",
    "])\n"
   ]
  },
  {
   "cell_type": "code",
   "execution_count": 22,
   "metadata": {},
   "outputs": [],
   "source": [
    "model.compile(loss=tf.keras.losses.BinaryCrossentropy(from_logits=True),\n",
    "              optimizer=tf.keras.optimizers.Adam(1e-4),\n",
    "              metrics=['accuracy'])"
   ]
  },
  {
   "cell_type": "code",
   "execution_count": 23,
   "metadata": {},
   "outputs": [
    {
     "name": "stdout",
     "output_type": "stream",
     "text": [
      "Epoch 1/10\n",
      "391/391 [==============================] - 489s 1s/step - loss: 0.6656 - accuracy: 0.5303 - val_loss: 0.4108 - val_accuracy: 0.8151\n",
      "Epoch 2/10\n",
      "391/391 [==============================] - 477s 1s/step - loss: 0.3930 - accuracy: 0.8303 - val_loss: 0.3423 - val_accuracy: 0.8458\n",
      "Epoch 3/10\n",
      "391/391 [==============================] - 476s 1s/step - loss: 0.3336 - accuracy: 0.8602 - val_loss: 0.3279 - val_accuracy: 0.8510\n",
      "Epoch 4/10\n",
      "391/391 [==============================] - 476s 1s/step - loss: 0.3216 - accuracy: 0.8645 - val_loss: 0.3209 - val_accuracy: 0.8594\n",
      "Epoch 5/10\n",
      "391/391 [==============================] - 469s 1s/step - loss: 0.3144 - accuracy: 0.8682 - val_loss: 0.3200 - val_accuracy: 0.8573\n",
      "Epoch 6/10\n",
      "391/391 [==============================] - 468s 1s/step - loss: 0.3001 - accuracy: 0.8717 - val_loss: 0.3238 - val_accuracy: 0.8578\n",
      "Epoch 7/10\n",
      "391/391 [==============================] - 476s 1s/step - loss: 0.2988 - accuracy: 0.8721 - val_loss: 0.3144 - val_accuracy: 0.8578\n",
      "Epoch 8/10\n",
      "248/391 [==================>...........] - ETA: 2:45 - loss: 0.2988 - accuracy: 0.8723"
     ]
    },
    {
     "name": "stderr",
     "output_type": "stream",
     "text": [
      "IOPub message rate exceeded.\n",
      "The notebook server will temporarily stop sending output\n",
      "to the client in order to avoid crashing it.\n",
      "To change this limit, set the config variable\n",
      "`--NotebookApp.iopub_msg_rate_limit`.\n",
      "\n",
      "Current values:\n",
      "NotebookApp.iopub_msg_rate_limit=1000.0 (msgs/sec)\n",
      "NotebookApp.rate_limit_window=3.0 (secs)\n",
      "\n"
     ]
    }
   ],
   "source": [
    "history = model.fit(train_dataset, epochs=10,\n",
    "                    validation_data=test_dataset,\n",
    "                    validation_steps=30)\n"
   ]
  },
  {
   "cell_type": "code",
   "execution_count": 24,
   "metadata": {},
   "outputs": [
    {
     "name": "stdout",
     "output_type": "stream",
     "text": [
      "[[-2.1584322]]\n"
     ]
    }
   ],
   "source": [
    "# predict on a sample text without padding.\n",
    "\n",
    "sample_text = ('The movie was not good. The animation and the graphics '\n",
    "                    'were terrible. I would not recommend this movie.')\n",
    "predictions = model.predict(np.array([sample_text]))\n",
    "print(predictions)\n"
   ]
  },
  {
   "cell_type": "code",
   "execution_count": 25,
   "metadata": {},
   "outputs": [
    {
     "data": {
      "image/png": "[encoded data removed]",
      "text/plain": [
       "<Figure size 1152x432 with 2 Axes>"
      ]
     },
     "metadata": {
      "needs_background": "light"
     },
     "output_type": "display_data"
    }
   ],
   "source": [
    "plt.figure(figsize=(16,6))\n",
    "plt.subplot(1,2,1)\n",
    "plot_graphs(history, 'accuracy')\n",
    "plt.subplot(1,2,2)\n",
    "plot_graphs(history, 'loss')\n"
   ]
  },
  {
   "cell_type": "code",
   "execution_count": null,
   "metadata": {},
   "outputs": [],
   "source": []
  },
  {
   "cell_type": "code",
   "execution_count": null,
   "metadata": {},
   "outputs": [],
   "source": []
  },
  {
   "cell_type": "code",
   "execution_count": null,
   "metadata": {},
   "outputs": [],
   "source": []
  }
 ],
 "metadata": {
  "kernelspec": {
   "display_name": "Python 3",
   "language": "python",
   "name": "python3"
  },
  "language_info": {
   "codemirror_mode": {
    "name": "ipython",
    "version": 3
   },
   "file_extension": ".py",
   "mimetype": "text/x-python",
   "name": "python",
   "nbconvert_exporter": "python",
   "pygments_lexer": "ipython3",
   "version": "3.6.13"
  }
 },
 "nbformat": 4,
 "nbformat_minor": 4
}
